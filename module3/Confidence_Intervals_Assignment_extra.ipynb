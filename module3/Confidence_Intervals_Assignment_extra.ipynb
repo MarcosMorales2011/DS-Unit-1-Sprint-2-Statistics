{
  "nbformat": 4,
  "nbformat_minor": 0,
  "metadata": {
    "colab": {
      "name": "LS_DS_123_Confidence_Intervals_Assignment_No_Answers.ipynb",
      "provenance": [],
      "collapsed_sections": []
    },
    "kernelspec": {
      "name": "python3",
      "display_name": "Python 3"
    }
  },
  "cells": [
    {
      "cell_type": "markdown",
      "metadata": {
        "id": "g_c3L9CeANiJ",
        "colab_type": "text"
      },
      "source": [
        "## Confidence Intervals\n",
        "\n",
        "Soft drinks like Coke and Pepsi are manufactured to have a standard caffeine content. For example, a 12-oz serving of Coke has 34mg of caffeine, and a 12-oz serving of Pepsi has 37.6mg of caffeine. However, fountain soft drinks are typically mixed in individual restaurant dispensers, so it is more difficult to maintain a standard level of caffeine per serving. In this study, researchers randomly sampled Coke, Diet Coke, Pepsi, and Diet Pepsi at a set of franchise restaurants and measured the caffeine content in 12oz of each soft drink2. The data is found in the Soda.xlsx dataset.\n",
        "\n",
        "Because individuals can be sensitive to caffeine – and because the manufacturers are interested in product consistency – we wish to estimate the mean caffeine content in 12oz of Coke served in franchise restaurants using a 95% confidence interval. \n",
        "\n",
        "You can find the Coke data here: 'https://raw.githubusercontent.com/Chelsea-Myers/Lambda-Intro/master/Coke.csv'\n",
        "\n",
        "The first variable is the sample ID and the second variable is the caffeine content in the 12-oz sample measured in mg.\n",
        "\n",
        "Source: A.N. Garand and L.N. Bell (1997). \"Caffeine Content of Fountain and Private-Label Store Brand Carbonated Beverages,\" Journal of the American Dietetic Association, Vol. 97, #2, pp. 179-182.\n",
        "\n",
        "\n"
      ]
    },
    {
      "cell_type": "markdown",
      "metadata": {
        "id": "oaJpAIakUo31",
        "colab_type": "text"
      },
      "source": [
        "###1) Load the dataset and print the first few rows"
      ]
    },
    {
      "cell_type": "code",
      "metadata": {
        "id": "yXwMJQGrAIbO",
        "colab_type": "code",
        "colab": {}
      },
      "source": [
        "#Import statements\n",
        "import pandas as pd\n",
        "url = 'https://raw.githubusercontent.com/Chelsea-Myers/Lambda-Intro/master/Coke.csv'\n",
        "df = pd.read_csv(url)"
      ],
      "execution_count": 3,
      "outputs": []
    },
    {
      "cell_type": "code",
      "metadata": {
        "id": "pYsFvm1dPygj",
        "colab_type": "code",
        "colab": {
          "base_uri": "https://localhost:8080/",
          "height": 194
        },
        "outputId": "9352e808-fb15-4fbd-aa5a-224ccba672aa"
      },
      "source": [
        "#Print the top 5 rows\n",
        "\n",
        "df.head()"
      ],
      "execution_count": 5,
      "outputs": [
        {
          "output_type": "execute_result",
          "data": {
            "text/html": [
              "<div>\n",
              "<style scoped>\n",
              "    .dataframe tbody tr th:only-of-type {\n",
              "        vertical-align: middle;\n",
              "    }\n",
              "\n",
              "    .dataframe tbody tr th {\n",
              "        vertical-align: top;\n",
              "    }\n",
              "\n",
              "    .dataframe thead th {\n",
              "        text-align: right;\n",
              "    }\n",
              "</style>\n",
              "<table border=\"1\" class=\"dataframe\">\n",
              "  <thead>\n",
              "    <tr style=\"text-align: right;\">\n",
              "      <th></th>\n",
              "      <th>Drink</th>\n",
              "      <th>Caffeine</th>\n",
              "    </tr>\n",
              "  </thead>\n",
              "  <tbody>\n",
              "    <tr>\n",
              "      <th>0</th>\n",
              "      <td>1</td>\n",
              "      <td>47.32</td>\n",
              "    </tr>\n",
              "    <tr>\n",
              "      <th>1</th>\n",
              "      <td>2</td>\n",
              "      <td>43.78</td>\n",
              "    </tr>\n",
              "    <tr>\n",
              "      <th>2</th>\n",
              "      <td>3</td>\n",
              "      <td>48.12</td>\n",
              "    </tr>\n",
              "    <tr>\n",
              "      <th>3</th>\n",
              "      <td>4</td>\n",
              "      <td>43.25</td>\n",
              "    </tr>\n",
              "    <tr>\n",
              "      <th>4</th>\n",
              "      <td>5</td>\n",
              "      <td>46.42</td>\n",
              "    </tr>\n",
              "  </tbody>\n",
              "</table>\n",
              "</div>"
            ],
            "text/plain": [
              "   Drink  Caffeine\n",
              "0      1     47.32\n",
              "1      2     43.78\n",
              "2      3     48.12\n",
              "3      4     43.25\n",
              "4      5     46.42"
            ]
          },
          "metadata": {
            "tags": []
          },
          "execution_count": 5
        }
      ]
    },
    {
      "cell_type": "markdown",
      "metadata": {
        "id": "wOQ-9E8uYcni",
        "colab_type": "text"
      },
      "source": [
        "###2) Calculate the mean, SD, SE caffeiene content and n for the sample.  Summarize your results in a sentence or two."
      ]
    },
    {
      "cell_type": "code",
      "metadata": {
        "id": "m1vuFGxVQo64",
        "colab_type": "code",
        "colab": {
          "base_uri": "https://localhost:8080/",
          "height": 88
        },
        "outputId": "61fb903d-d27a-4965-9036-d9461c4ec719"
      },
      "source": [
        "#Calculations here\n",
        "\n",
        "mean_c = df['Caffeine'].mean()\n",
        "std_c = df['Caffeine'].std()\n",
        "n_c = df['Caffeine'].count()\n",
        "\n",
        "se_c = std_c/(n_c ** 0.5)\n",
        "\n",
        "print(\"Mean: \" + str(mean_c))\n",
        "print(\"ST: \" + str(std_c))\n",
        "print(\"Counts: \" + str(n_c))\n",
        "print(\"SE: \" + str(se_c))"
      ],
      "execution_count": 9,
      "outputs": [
        {
          "output_type": "stream",
          "text": [
            "Mean: 37.9402\n",
            "ST: 5.243756828216712\n",
            "Counts: 50\n",
            "SE: 0.7415792024250598\n"
          ],
          "name": "stdout"
        }
      ]
    },
    {
      "cell_type": "markdown",
      "metadata": {
        "id": "y2Rz-8O-YmF9",
        "colab_type": "text"
      },
      "source": [
        "Sentence or two summary.\n",
        "\n",
        "The mean of caffeine in a coke is 37.94 mg/oz^2\n",
        "\n",
        "The standard deviation of caffeine in a coke is 5.24 mg/oz^2\n",
        "\n",
        "There are 50 different drinks recorded in the dataset.\n",
        "\n",
        "This sample is 0.74 standard deviations away from the true mean of the distribution."
      ]
    },
    {
      "cell_type": "markdown",
      "metadata": {
        "colab_type": "text",
        "id": "RySL5E7GEHGf"
      },
      "source": [
        "###3) Find t* for a 95% confidence interval.  \n",
        "\n",
        "Use the starter code below and fill in the degrees of freedom."
      ]
    },
    {
      "cell_type": "code",
      "metadata": {
        "id": "ti9x37XSQ_yL",
        "colab_type": "code",
        "colab": {
          "base_uri": "https://localhost:8080/",
          "height": 35
        },
        "outputId": "3b6b499a-6e4b-488d-c85b-4eb3dbabb2e6"
      },
      "source": [
        "from scipy.stats import t\n",
        "\n",
        "#Don't worry too much about where the 0.975 comes from.  It has to do\n",
        "#with wanting to determine the *middle* 95% of the t-distribution\n",
        "#We're going to learn\n",
        "#how to calculate a 95% CI this easy way in just a minute.\n",
        "\n",
        "#Recall that n = 223 for the body temp problem.\n",
        "t_star = t.ppf(0.975,df=49)\n",
        "print('t_star =', t_star)"
      ],
      "execution_count": 12,
      "outputs": [
        {
          "output_type": "stream",
          "text": [
            "t_star = 2.009575234489209\n"
          ],
          "name": "stdout"
        }
      ]
    },
    {
      "cell_type": "markdown",
      "metadata": {
        "colab_type": "text",
        "id": "AddooPk1JBvQ"
      },
      "source": [
        "###4) Calculate the margin of error for a 95% confidence interval for the mean caffeine content in a 12-oz Coke.\n",
        "\n"
      ]
    },
    {
      "cell_type": "code",
      "metadata": {
        "id": "IjjYtXodJW-b",
        "colab_type": "code",
        "colab": {
          "base_uri": "https://localhost:8080/",
          "height": 35
        },
        "outputId": "d1433569-5e58-46da-a87f-4f7d031db3b6"
      },
      "source": [
        "#Calculations here  \n",
        "moe = (std_c/(n_c ** 0.5)) * t_star\n",
        "moe"
      ],
      "execution_count": 19,
      "outputs": [
        {
          "output_type": "execute_result",
          "data": {
            "text/plain": [
              "1.49025919960566"
            ]
          },
          "metadata": {
            "tags": []
          },
          "execution_count": 19
        }
      ]
    },
    {
      "cell_type": "markdown",
      "metadata": {
        "id": "ePBmVZU7N2nq",
        "colab_type": "text"
      },
      "source": [
        "We're 95% sure that coca-cola drinks have an amount of caffeine between 36.45 and 39.43 mg/oz^2"
      ]
    },
    {
      "cell_type": "markdown",
      "metadata": {
        "id": "AtGASqgxYp5t",
        "colab_type": "text"
      },
      "source": [
        "###5) Calculate a 95% CI for the mean caffeine content in a 12-oz fountain Coke with the CI formula using the summary statistics and t* that you calculated above."
      ]
    },
    {
      "cell_type": "code",
      "metadata": {
        "id": "JPUE0osGEw0M",
        "colab_type": "code",
        "colab": {
          "base_uri": "https://localhost:8080/",
          "height": 52
        },
        "outputId": "40ad844d-8007-4eaa-c2da-e95bee9558c9"
      },
      "source": [
        "#Calculations here\n",
        "\n",
        "print(mean_c + (t_star * (se_c)))\n",
        "print(mean_c - (t_star * (se_c)))"
      ],
      "execution_count": 20,
      "outputs": [
        {
          "output_type": "stream",
          "text": [
            "39.43045919960566\n",
            "36.44994080039434\n"
          ],
          "name": "stdout"
        }
      ]
    },
    {
      "cell_type": "markdown",
      "metadata": {
        "colab_type": "text",
        "id": "gAKJlaMyEzVz"
      },
      "source": [
        "###6) Calculate a 95% CI for the mean caffeiene content in a 12-oz fountain Coke using the t-interval function in Python."
      ]
    },
    {
      "cell_type": "code",
      "metadata": {
        "colab_type": "code",
        "id": "GSo4uKWVFKwQ",
        "colab": {
          "base_uri": "https://localhost:8080/",
          "height": 35
        },
        "outputId": "2972411a-c041-413a-ee47-78970d570e1f"
      },
      "source": [
        "#Calculations here\n",
        "\n",
        "t.interval(alpha=0.95, df=49, loc=mean_c, scale=se_c)"
      ],
      "execution_count": 18,
      "outputs": [
        {
          "output_type": "execute_result",
          "data": {
            "text/plain": [
              "(36.44994080039434, 39.43045919960566)"
            ]
          },
          "metadata": {
            "tags": []
          },
          "execution_count": 18
        }
      ]
    },
    {
      "cell_type": "markdown",
      "metadata": {
        "id": "8oD8lp84YyvU",
        "colab_type": "text"
      },
      "source": [
        "###7) Compare the two confidence intervals you calculated.  Do they match?  Should they?"
      ]
    },
    {
      "cell_type": "markdown",
      "metadata": {
        "id": "mBMX1NAIFT88",
        "colab_type": "text"
      },
      "source": [
        "They do match pefectly. They should, since the statistics library uses the same formulas for it's methods that we use in our manual implementations."
      ]
    },
    {
      "cell_type": "markdown",
      "metadata": {
        "id": "-2ulIAGmYudp",
        "colab_type": "text"
      },
      "source": [
        "###8) Interpret the meaning of the 95% confidence interval for the mean caffeiene content in a 12-oz fountain Coke. in a sentence or two."
      ]
    },
    {
      "cell_type": "markdown",
      "metadata": {
        "id": "hD5HloatYxoh",
        "colab_type": "text"
      },
      "source": [
        "We are 95% certain that the mean caffeine content for a 12-oz fountain coke will be between 36.4499 and 39.43 mg/oz^2"
      ]
    },
    {
      "cell_type": "markdown",
      "metadata": {
        "id": "SpqgKQfTYvF0",
        "colab_type": "text"
      },
      "source": [
        "###9) Using the t-interval Python function, calculate a 90% confidence interval for the mean caffeine content in a 12-oz Coke.  Is this estimate more accurate or more precise (pick one) than the 95% confidence interval?\n",
        "\n"
      ]
    },
    {
      "cell_type": "code",
      "metadata": {
        "id": "r1y1LE_dPAi6",
        "colab_type": "code",
        "colab": {
          "base_uri": "https://localhost:8080/",
          "height": 35
        },
        "outputId": "8d9d1878-440f-4572-bc4a-6d9ebb73364e"
      },
      "source": [
        "t.interval(alpha=0.90, df=49, loc=mean_c, scale=se_c)"
      ],
      "execution_count": 21,
      "outputs": [
        {
          "output_type": "execute_result",
          "data": {
            "text/plain": [
              "(36.696904726749196, 39.1834952732508)"
            ]
          },
          "metadata": {
            "tags": []
          },
          "execution_count": 21
        }
      ]
    },
    {
      "cell_type": "markdown",
      "metadata": {
        "colab_type": "text",
        "id": "7WIQtB0PGJP4"
      },
      "source": [
        "This estimate is more precise, since valus will be close, but it will also be less accurate, meaning that they are farther away from the true value."
      ]
    },
    {
      "cell_type": "markdown",
      "metadata": {
        "colab_type": "text",
        "id": "hQsmY8RnHKJf"
      },
      "source": [
        "###10) Using the t-interval Python function, calculate a 99% confidence interval for the mean caffeine content in a 12-oz Coke.  Is this estimate more accurate or more precise (pick one) than the 95% confidence interval?\n",
        "\n"
      ]
    },
    {
      "cell_type": "code",
      "metadata": {
        "id": "YrKq5pXYPNnK",
        "colab_type": "code",
        "colab": {
          "base_uri": "https://localhost:8080/",
          "height": 35
        },
        "outputId": "906a86db-5f70-499f-cdb2-7ff8ec7d703e"
      },
      "source": [
        "t.interval(alpha=0.99, df=49, loc=mean_c, scale=se_c)"
      ],
      "execution_count": 22,
      "outputs": [
        {
          "output_type": "execute_result",
          "data": {
            "text/plain": [
              "(35.95280335285685, 39.92759664714315)"
            ]
          },
          "metadata": {
            "tags": []
          },
          "execution_count": 22
        }
      ]
    },
    {
      "cell_type": "markdown",
      "metadata": {
        "colab_type": "text",
        "id": "liduCGIkJAC2"
      },
      "source": [
        "This stimate is more accurate, since it has a 99% probability of being true, but it is less precise, given it's larger range of values."
      ]
    },
    {
      "cell_type": "markdown",
      "metadata": {
        "id": "9tIHBlM_SyGR",
        "colab_type": "text"
      },
      "source": [
        "## Stretch goals:\n",
        "\n",
        "###1) The correspondence between confidence intervals and hypothesis tests.\n",
        "\n",
        "Read [this](https://https://blog.minitab.com/blog/adventures-in-statistics-2/understanding-hypothesis-tests-confidence-intervals-and-confidence-levels#:~:text=If%20a%20hypothesis%20test%20produces,corresponding%20confidence%20level%20is%2095%25.&text=If%20the%20confidence%20interval%20does,the%20results%20are%20statistically%20significant.) article about the correspondence between confidence intervals and hypothesis tests.  Feel free to read the whole article, but the relevant part can be found under the heading Why P Values and Confidence Intervals Always Agree About Statistical Significance.\n",
        "\n",
        "Imagine you work for quality control at Coke and are tasked with making sure that the caffeiene content in the fountain beverages served in restaurants is the same as in a 12-oz can of Coke (34mg).  If you believe that the mean caffeiene content in fountain coke is not 34mg, you must re-train the franchise managers to make sure the Coke served has the correct caffeiene level.\n",
        "\n",
        "Based on the confidence interval you calculated in the assignment, do you believe that the mean caffeiene content is statistically significantly different from 34 mg in a 12-oz serving?\n"
      ]
    },
    {
      "cell_type": "markdown",
      "metadata": {
        "id": "4Aa3df-_LgnT",
        "colab_type": "text"
      },
      "source": [
        "Answer here."
      ]
    },
    {
      "cell_type": "markdown",
      "metadata": {
        "id": "Ne4k2kd3LhfV",
        "colab_type": "text"
      },
      "source": [
        "###2) If we increased the sample size from 50 to 100 but the sample mean and SD remained the same, describe **two** ways the margin of error would change.  Would the margin of error become smaller or larger?"
      ]
    },
    {
      "cell_type": "markdown",
      "metadata": {
        "id": "6lVcoTU6L5Pg",
        "colab_type": "text"
      },
      "source": [
        "Answer to what would change here."
      ]
    },
    {
      "cell_type": "code",
      "metadata": {
        "id": "PQkk3nu4L4vu",
        "colab_type": "code",
        "colab": {}
      },
      "source": [
        "#Calculations here."
      ],
      "execution_count": null,
      "outputs": []
    },
    {
      "cell_type": "markdown",
      "metadata": {
        "colab_type": "text",
        "id": "5bZ8LyiQXnpO"
      },
      "source": [
        "Compare MEs here.\n",
        "\n"
      ]
    }
  ]
}